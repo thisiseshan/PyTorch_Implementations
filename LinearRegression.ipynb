{
  "nbformat": 4,
  "nbformat_minor": 0,
  "metadata": {
    "colab": {
      "name": "LinearRegression.ipynb",
      "version": "0.3.2",
      "provenance": []
    },
    "kernelspec": {
      "name": "python3",
      "display_name": "Python 3"
    },
    "accelerator": "GPU"
  },
  "cells": [
    {
      "metadata": {
        "id": "T5p88JgioJe-",
        "colab_type": "text"
      },
      "cell_type": "markdown",
      "source": [
        ""
      ]
    },
    {
      "metadata": {
        "id": "Qs8ZTnfHrayK",
        "colab_type": "text"
      },
      "cell_type": "markdown",
      "source": [
        "## **Create Imports**"
      ]
    },
    {
      "metadata": {
        "id": "V9NlMd4Nrac7",
        "colab_type": "code",
        "colab": {}
      },
      "cell_type": "code",
      "source": [
        "import numpy as np\n",
        "\n",
        "import torch\n",
        "import torch.nn as nn\n",
        "from torch.autograd import Variable\n",
        "import time"
      ],
      "execution_count": 0,
      "outputs": []
    },
    {
      "metadata": {
        "id": "W1m40QWhpNBv",
        "colab_type": "text"
      },
      "cell_type": "markdown",
      "source": [
        "## **Create a Toy Dataset**"
      ]
    },
    {
      "metadata": {
        "id": "cvNhX4SspMph",
        "colab_type": "code",
        "colab": {}
      },
      "cell_type": "code",
      "source": [
        "x = [i for i in range(10)]   # [0, 1, 2, 3, 4, 5, 6, 7, 8, 9]\n",
        "\n",
        "x_train = np.array(x, dtype = np.float32)  # Convert to np array\n",
        "\n",
        "# Currently the shape of x_train is (10,)\n",
        "\n",
        "x_train = x_train.reshape(-1,1)\n",
        "\n",
        "# Now the shape of x_train is (10,1)\n",
        "\n"
      ],
      "execution_count": 0,
      "outputs": []
    },
    {
      "metadata": {
        "id": "w-nIc0A3q3F1",
        "colab_type": "text"
      },
      "cell_type": "markdown",
      "source": [
        "### ***For \" y = 2x + 1\"***"
      ]
    },
    {
      "metadata": {
        "id": "L5VvG3-Pq80r",
        "colab_type": "code",
        "colab": {
          "base_uri": "https://localhost:8080/",
          "height": 187
        },
        "outputId": "0a283e11-7d00-4386-e92c-ca042bc3ddde"
      },
      "cell_type": "code",
      "source": [
        "y = [2*i + 1 for i in range(10) ]  # y = [1, 3, 5, 7, 9, 11, 13, 15, 17, 19]\n",
        "\n",
        "y_train = np.array(y, dtype = np.float32)\n",
        "\n",
        "y_train.reshape(-1,1)"
      ],
      "execution_count": 39,
      "outputs": [
        {
          "output_type": "execute_result",
          "data": {
            "text/plain": [
              "array([[ 1.],\n",
              "       [ 3.],\n",
              "       [ 5.],\n",
              "       [ 7.],\n",
              "       [ 9.],\n",
              "       [11.],\n",
              "       [13.],\n",
              "       [15.],\n",
              "       [17.],\n",
              "       [19.]], dtype=float32)"
            ]
          },
          "metadata": {
            "tags": []
          },
          "execution_count": 39
        }
      ]
    },
    {
      "metadata": {
        "id": "gGFg71DdsICw",
        "colab_type": "text"
      },
      "cell_type": "markdown",
      "source": [
        "##**BUILDING MODEL**"
      ]
    },
    {
      "metadata": {
        "id": "AvtqP1gO7XfI",
        "colab_type": "code",
        "colab": {}
      },
      "cell_type": "code",
      "source": [
        "# Create a class\n",
        "\n",
        "class LinearRegressionModel(nn.Module):\n",
        "  def __init__(self,input_size,output_size):\n",
        "    super(LinearRegressionModel,self).__init__()\n",
        "    self.linear=nn.Linear(input_dim,output_dim)\n",
        "    \n",
        "  def forward(self,x):\n",
        "    out=self.linear(x)\n",
        "    return out"
      ],
      "execution_count": 0,
      "outputs": []
    },
    {
      "metadata": {
        "id": "c54tSxYyxsaz",
        "colab_type": "text"
      },
      "cell_type": "markdown",
      "source": [
        "##**Instantiate Model Class**\n",
        "\n",
        "###input: [0, 1, 2, 3, 4, 5, 6, 7, 8, 9]\n",
        "\n",
        "###Desired Output: [1, 3, 5, 7, 9, 11, 13, 15, 17, 19]"
      ]
    },
    {
      "metadata": {
        "id": "4_5EK4r97Z8V",
        "colab_type": "code",
        "colab": {}
      },
      "cell_type": "code",
      "source": [
        "input_dim = 1\n",
        "output_dim = 1\n",
        "\n",
        "model = LinearRegressionModel(input_dim, output_dim)\n",
        "\n",
        "if torch.cuda.is_available():\n",
        "  model.cuda()\n"
      ],
      "execution_count": 0,
      "outputs": []
    },
    {
      "metadata": {
        "id": "8yPrcBwzyfsK",
        "colab_type": "text"
      },
      "cell_type": "markdown",
      "source": [
        "## Using MSE Loss"
      ]
    },
    {
      "metadata": {
        "id": "9lKtD8_X7dgc",
        "colab_type": "code",
        "colab": {}
      },
      "cell_type": "code",
      "source": [
        "lossfunc = nn.MSELoss()\n",
        "\n",
        "# MSE = Mean Square Loss ( To reduce the error between the predicted value and expected value)"
      ],
      "execution_count": 0,
      "outputs": []
    },
    {
      "metadata": {
        "id": "NxmJeAVN8B7Z",
        "colab_type": "text"
      },
      "cell_type": "markdown",
      "source": [
        "## **Optimizer**"
      ]
    },
    {
      "metadata": {
        "id": "ZkFw9cEcFrgx",
        "colab_type": "text"
      },
      "cell_type": "markdown",
      "source": [
        ""
      ]
    },
    {
      "metadata": {
        "id": "4Hp9bP3c7kyG",
        "colab_type": "code",
        "colab": {}
      },
      "cell_type": "code",
      "source": [
        "learning_rate = 0.01\n",
        "optimizer = torch.optim.SGD(model.parameters(), lr = learning_rate)\n",
        "\n",
        "# SGD = Stochastic gradient descent (iterative approach to change learning rate)"
      ],
      "execution_count": 0,
      "outputs": []
    },
    {
      "metadata": {
        "id": "3DQHn-3E9X5F",
        "colab_type": "text"
      },
      "cell_type": "markdown",
      "source": [
        "##**Training Model**"
      ]
    },
    {
      "metadata": {
        "id": "igC1plLh9cYg",
        "colab_type": "code",
        "colab": {}
      },
      "cell_type": "code",
      "source": [
        "epochs = 100"
      ],
      "execution_count": 0,
      "outputs": []
    },
    {
      "metadata": {
        "id": "VqWJ2esRBT2Y",
        "colab_type": "code",
        "colab": {}
      },
      "cell_type": "code",
      "source": [
        "# Put Variables on GPU\n",
        "# Convert numpy array to torch tensor and then to Variable\n",
        "  \n",
        "if torch.cuda.is_available():\n",
        "  inputs = Variable(torch.from_numpy(x_train).cuda())\n",
        "  labels = Variable(torch.from_numpy(y_train).cuda())\n",
        "else:\n",
        "  inputs = Variable(torch.from_numpy(x_train))\n",
        "  labels = Variable(torch.from_numpy(y_train))\n",
        "\n",
        "Initial_Time = time.time()\n",
        "for epoch in range(epochs):\n",
        "  epoch += 1\n",
        "  \n",
        "  \n",
        "  # Free up gradients to avoid accumulation\n",
        "  optimizer.zero_grad()\n",
        "  \n",
        "  # Forward Propagation\n",
        "  outputs = model(inputs)\n",
        "  \n",
        "  # Calculate loss\n",
        "  loss = lossfunc(outputs, labels)\n",
        "  \n",
        "  # Calculte gradients\n",
        "  loss.backward()\n",
        "  \n",
        "  # Update parameters\n",
        "  optimizer.step()\n",
        "  \n",
        "#   print('epoch {}, loss {}'.format(epoch, loss.data[0]))\n",
        "Final_Time = time.time()"
      ],
      "execution_count": 0,
      "outputs": []
    },
    {
      "metadata": {
        "id": "jyja9UjaCuiE",
        "colab_type": "code",
        "colab": {
          "base_uri": "https://localhost:8080/",
          "height": 34
        },
        "outputId": "bf23bf3e-5f42-43d9-91ed-acb73e36ff9f"
      },
      "cell_type": "code",
      "source": [
        "print('Time required was', Final_Time - Initial_Time )"
      ],
      "execution_count": 59,
      "outputs": [
        {
          "output_type": "stream",
          "text": [
            "Time required was 0.08744192123413086\n"
          ],
          "name": "stdout"
        }
      ]
    },
    {
      "metadata": {
        "id": "GjbqMgwjIgjw",
        "colab_type": "code",
        "colab": {}
      },
      "cell_type": "code",
      "source": [
        ""
      ],
      "execution_count": 0,
      "outputs": []
    }
  ]
}